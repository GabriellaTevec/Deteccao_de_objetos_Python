{
  "nbformat": 4,
  "nbformat_minor": 0,
  "metadata": {
    "accelerator": "GPU",
    "colab": {
      "name": "deteccao_de_objetos.ipynb",
      "provenance": [],
      "collapsed_sections": [],
      "authorship_tag": "ABX9TyNQv17qIm4qNbxzXFsC2z53",
      "include_colab_link": true
    },
    "kernelspec": {
      "display_name": "Python 3",
      "name": "python3"
    }
  },
  "cells": [
    {
      "cell_type": "markdown",
      "metadata": {
        "id": "view-in-github",
        "colab_type": "text"
      },
      "source": [
        "<a href=\"https://colab.research.google.com/github/gabrielladsc/Deteccao_de_objetos_Python/blob/main/deteccao_de_objetos.ipynb\" target=\"_parent\"><img src=\"https://colab.research.google.com/assets/colab-badge.svg\" alt=\"Open In Colab\"/></a>"
      ]
    },
    {
      "cell_type": "markdown",
      "metadata": {
        "id": "Zowr-9BFUqJ4"
      },
      "source": [
        "Instalação do Tensorflow, uma biblioteca de machine learning."
      ]
    },
    {
      "cell_type": "code",
      "metadata": {
        "id": "vd2UPDwGTrul"
      },
      "source": [
        "!pip install -U --pre tensorflow==\"2.*\"\r\n",
        "!pip install tf_slim"
      ],
      "execution_count": null,
      "outputs": []
    },
    {
      "cell_type": "markdown",
      "metadata": {
        "id": "8KWN9GueR0op"
      },
      "source": [
        "Instalação do Pycocotools, que é uma API do Python para auxiliar no carregamento, análise e visualização das anotações no COCO."
      ]
    },
    {
      "cell_type": "code",
      "metadata": {
        "id": "xmP_8pM0dcG3"
      },
      "source": [
        "!pip install pycocotools"
      ],
      "execution_count": null,
      "outputs": []
    },
    {
      "cell_type": "markdown",
      "metadata": {
        "id": "vZ1xi5arWT5I"
      },
      "source": [
        "Importando o módulo os, que fornece uma maneira simples de usar funcionalidades que são dependentes de sistema operacional, e o pathlib, para manipular caminhos de sistema de arquivos, independente do sistema operacional."
      ]
    },
    {
      "cell_type": "code",
      "metadata": {
        "id": "4BBJ43gydgDx"
      },
      "source": [
        "import os\r\n",
        "import pathlib"
      ],
      "execution_count": null,
      "outputs": []
    },
    {
      "cell_type": "markdown",
      "metadata": {
        "id": "wTlT1fWP36u6"
      },
      "source": [
        "Se tiver a parta models no notebook, ele vai acessar ela, senão, irá baixar do github uma pasta com o modelo necessário."
      ]
    },
    {
      "cell_type": "code",
      "metadata": {
        "id": "SMlsjGUY36Ny"
      },
      "source": [
        "if \"models\" in pathlib.Path.cwd().parts:\r\n",
        "  while \"models\" in pathlib.Path.cwd().parts:\r\n",
        "    os.chdir('..')\r\n",
        "elif not pathlib.Path('models').exists():\r\n",
        "  !git clone --depth 1 https://github.com/tensorflow/models"
      ],
      "execution_count": null,
      "outputs": []
    },
    {
      "cell_type": "markdown",
      "metadata": {
        "id": "Znh_utRp4oWd"
      },
      "source": [
        "O %%bash significa que os próximos comandos serão executados pelo bash, nesse caso o código vai entrar no caminho especificado e compilar os protos."
      ]
    },
    {
      "cell_type": "code",
      "metadata": {
        "id": "3Z2KnIhWdi7l"
      },
      "source": [
        "%%bash\r\n",
        "cd models/research/\r\n",
        "protoc object_detection/protos/*.proto --python_out=."
      ],
      "execution_count": null,
      "outputs": []
    },
    {
      "cell_type": "markdown",
      "metadata": {
        "id": "yg0WL4oq7bV2"
      },
      "source": [
        "O %%bash significa que os próximos comandos serão executados pelo bash, nesse caso o código vai entrar no caminho especificado e instalar a API de detecção de objetos."
      ]
    },
    {
      "cell_type": "code",
      "metadata": {
        "id": "gdiCfLbodllO"
      },
      "source": [
        "%%bash \r\n",
        "cd models/research\r\n",
        "pip install ."
      ],
      "execution_count": null,
      "outputs": []
    },
    {
      "cell_type": "markdown",
      "metadata": {
        "id": "qe0vnIyO8RdV"
      },
      "source": [
        "Fazendo as importações necessárias."
      ]
    },
    {
      "cell_type": "code",
      "metadata": {
        "id": "XRNrJgzcdoDv"
      },
      "source": [
        "import numpy as np\r\n",
        "import os\r\n",
        "import six.moves.urllib as urllib\r\n",
        "import sys\r\n",
        "import tarfile\r\n",
        "import tensorflow as tf\r\n",
        "import zipfile\r\n",
        "\r\n",
        "from collections import defaultdict\r\n",
        "from io import StringIO\r\n",
        "from matplotlib import pyplot as plt\r\n",
        "from PIL import Image\r\n",
        "from IPython.display import display\r\n",
        "\r\n",
        "from object_detection.utils import ops as utils_ops\r\n",
        "from object_detection.utils import label_map_util\r\n",
        "from object_detection.utils import visualization_utils as vis_util"
      ],
      "execution_count": null,
      "outputs": []
    },
    {
      "cell_type": "markdown",
      "metadata": {
        "id": "UiZ_vqSF-ZT1"
      },
      "source": [
        "Função que carrega dados do site TensorFlow, especificamente os com 'tar.gz' no nome, pois são os modelos necessários."
      ]
    },
    {
      "cell_type": "code",
      "metadata": {
        "id": "GJzPZdEBdvDS"
      },
      "source": [
        "def load_model(model_name):\r\n",
        "  base_url = 'http://download.tensorflow.org/models/object_detection/'\r\n",
        "  model_file = model_name + '.tar.gz'\r\n",
        "  model_dir = tf.keras.utils.get_file(\r\n",
        "    fname=model_name, \r\n",
        "    origin=base_url + model_file,\r\n",
        "    untar=True)\r\n",
        "\r\n",
        "  model_dir = pathlib.Path(model_dir)/\"saved_model\"\r\n",
        "\r\n",
        "  model = tf.saved_model.load(str(model_dir))\r\n",
        "\r\n",
        "  return model"
      ],
      "execution_count": null,
      "outputs": []
    },
    {
      "cell_type": "markdown",
      "metadata": {
        "id": "2sGqGvdm9OYU"
      },
      "source": [
        "Lista das palavras usadas para escrever o nome de cada objeto nas caixas geradas na detecção."
      ]
    },
    {
      "cell_type": "code",
      "metadata": {
        "id": "ei0DQZ0WODXf"
      },
      "source": [
        "PATH_TO_LABELS = 'models/research/object_detection/data/mscoco_label_map.pbtxt'\r\n",
        "category_index = label_map_util.create_category_index_from_labelmap(PATH_TO_LABELS, use_display_name=True)"
      ],
      "execution_count": null,
      "outputs": []
    },
    {
      "cell_type": "markdown",
      "metadata": {
        "id": "kqeNitwX-7pj"
      },
      "source": [
        "Mostra pra variável PATH_TO_TEST_IMAGES_DIR em qual caminho buscar as imagens que vão ser processadas para detectar objetos. Além disso especifica qual extensão buscar, podendo ser outras, desde que troque no código."
      ]
    },
    {
      "cell_type": "code",
      "metadata": {
        "id": "UkbpR7uTd09R"
      },
      "source": [
        "PATH_TO_TEST_IMAGES_DIR = pathlib.Path('models/research/object_detection/test_images')\r\n",
        "TEST_IMAGE_PATHS = sorted(list(PATH_TO_TEST_IMAGES_DIR.glob(\"*.jpg\")))"
      ],
      "execution_count": null,
      "outputs": []
    },
    {
      "cell_type": "markdown",
      "metadata": {
        "id": "zQqC5sbJ_lv5"
      },
      "source": [
        "Carrega um modelo de detecção de objetos."
      ]
    },
    {
      "cell_type": "code",
      "metadata": {
        "id": "3z2sp0jyNmYU"
      },
      "source": [
        "model_name = 'ssd_mobilenet_v1_coco_2017_11_17'\r\n",
        "detection_model = load_model(model_name)"
      ],
      "execution_count": null,
      "outputs": []
    },
    {
      "cell_type": "markdown",
      "metadata": {
        "id": "_wP8c6FoAEWY"
      },
      "source": [
        "Função que retorna um dicionário com as informações da detecção. \r\n",
        "Uma imagem é passada como parâmetro e ela deve ser convertida pro tipo tensor.\r\n",
        "Como a saída do processamento é um lote de tensores, ela é convertida em matriz numpy para acessar apenas a posição que importa, que é a quantidade de detecções feitas.\r\n",
        "\r\n",
        "\r\n",
        "\r\n",
        "\r\n",
        "\r\n"
      ]
    },
    {
      "cell_type": "code",
      "metadata": {
        "id": "GK-u5rMzd-r5"
      },
      "source": [
        "def run_inference_for_single_image(model, image):\r\n",
        "  image = np.asarray(image)\r\n",
        "  \r\n",
        "  input_tensor = tf.convert_to_tensor(image)\r\n",
        "  \r\n",
        "  input_tensor = input_tensor[tf.newaxis,...]\r\n",
        "\r\n",
        "  model_fn = model.signatures['serving_default']\r\n",
        "  output_dict = model_fn(input_tensor)\r\n",
        "\r\n",
        "  num_detections = int(output_dict.pop('num_detections'))\r\n",
        "  output_dict = {key:value[0, :num_detections].numpy() \r\n",
        "                 for key,value in output_dict.items()}\r\n",
        "  output_dict['num_detections'] = num_detections\r\n",
        "\r\n",
        "  output_dict['detection_classes'] = output_dict['detection_classes'].astype(np.int64)\r\n",
        "   \r\n",
        "  if 'detection_masks' in output_dict:\r\n",
        "\r\n",
        "    detection_masks_reframed = utils_ops.reframe_box_masks_to_image_masks(\r\n",
        "              output_dict['detection_masks'], output_dict['detection_boxes'],\r\n",
        "               image.shape[0], image.shape[1])      \r\n",
        "    detection_masks_reframed = tf.cast(detection_masks_reframed > 0.5,\r\n",
        "                                       tf.uint8)\r\n",
        "    output_dict['detection_masks_reframed'] = detection_masks_reframed.numpy()\r\n",
        "    \r\n",
        "  return output_dict"
      ],
      "execution_count": null,
      "outputs": []
    },
    {
      "cell_type": "markdown",
      "metadata": {
        "id": "x_OQ-5pwCYqv"
      },
      "source": [
        "Função que mostra a imagem com a detecção aplicada. Recebe como parâmetro um modelo de detecção e um caminho para a imagem a ser processada. O caminho da imagem é passado para um array através do numpy. A visualização consiste na imagem em array e os dados do dicionário retornados da função run_inference_for_single_image."
      ]
    },
    {
      "cell_type": "code",
      "metadata": {
        "id": "4oH20UKbeCdT"
      },
      "source": [
        "def show_inference(model, image_path):\r\n",
        "  image_np = np.array(Image.open(image_path))\r\n",
        "\r\n",
        "  output_dict = run_inference_for_single_image(model, image_np)\r\n",
        "  \r\n",
        "  vis_util.visualize_boxes_and_labels_on_image_array(\r\n",
        "      image_np,\r\n",
        "      output_dict['detection_boxes'],\r\n",
        "      output_dict['detection_classes'],\r\n",
        "      output_dict['detection_scores'],\r\n",
        "      category_index,\r\n",
        "      instance_masks=output_dict.get('detection_masks_reframed', None),\r\n",
        "      use_normalized_coordinates=True,\r\n",
        "      line_thickness=8)\r\n",
        "\r\n",
        "  display(Image.fromarray(image_np))"
      ],
      "execution_count": null,
      "outputs": []
    },
    {
      "cell_type": "markdown",
      "metadata": {
        "id": "Z05HI-tLDacR"
      },
      "source": [
        "Esse *for* percorre todas as imagens que estão no caminho dado, com a extensão especificada, passa todas essas imagens como parâmetro pra função show_inference, que imprime as imagens com a detecção aplicada."
      ]
    },
    {
      "cell_type": "code",
      "metadata": {
        "id": "gyuX98DIeD_9"
      },
      "source": [
        "for image_path in TEST_IMAGE_PATHS:\r\n",
        "  show_inference(detection_model, image_path)\r\n"
      ],
      "execution_count": null,
      "outputs": []
    }
  ]
}